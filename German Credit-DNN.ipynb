{
 "cells": [
  {
   "cell_type": "markdown",
   "metadata": {},
   "source": [
    "# German Credit Analysis, Using DNN"
   ]
  },
  {
   "cell_type": "markdown",
   "metadata": {
    "collapsed": true
   },
   "source": [
    "Some necessary libraries:"
   ]
  },
  {
   "cell_type": "code",
   "execution_count": 12,
   "metadata": {
    "collapsed": true
   },
   "outputs": [],
   "source": [
    "from __future__ import division\n",
    "from math import log\n",
    "import pandas as pd"
   ]
  },
  {
   "cell_type": "markdown",
   "metadata": {},
   "source": [
    "### Read in the data"
   ]
  },
  {
   "cell_type": "code",
   "execution_count": 13,
   "metadata": {
    "collapsed": true,
    "scrolled": true
   },
   "outputs": [],
   "source": [
    "german = pd.read_csv('MGMT635_GermanCreditData.csv')"
   ]
  },
  {
   "cell_type": "code",
   "execution_count": 14,
   "metadata": {
    "scrolled": false
   },
   "outputs": [
    {
     "data": {
      "text/html": [
       "<div>\n",
       "<style>\n",
       "    .dataframe thead tr:only-child th {\n",
       "        text-align: right;\n",
       "    }\n",
       "\n",
       "    .dataframe thead th {\n",
       "        text-align: left;\n",
       "    }\n",
       "\n",
       "    .dataframe tbody tr th {\n",
       "        vertical-align: top;\n",
       "    }\n",
       "</style>\n",
       "<table border=\"1\" class=\"dataframe\">\n",
       "  <thead>\n",
       "    <tr style=\"text-align: right;\">\n",
       "      <th></th>\n",
       "      <th>status</th>\n",
       "      <th>duration</th>\n",
       "      <th>history</th>\n",
       "      <th>purpose</th>\n",
       "      <th>amount</th>\n",
       "      <th>savings</th>\n",
       "      <th>employment</th>\n",
       "      <th>rate</th>\n",
       "      <th>personal</th>\n",
       "      <th>guarantor</th>\n",
       "      <th>...</th>\n",
       "      <th>propert</th>\n",
       "      <th>age</th>\n",
       "      <th>other_debt</th>\n",
       "      <th>housing_type</th>\n",
       "      <th>existing_credit_bank</th>\n",
       "      <th>job</th>\n",
       "      <th>dependents</th>\n",
       "      <th>phone</th>\n",
       "      <th>foreign</th>\n",
       "      <th>target</th>\n",
       "    </tr>\n",
       "  </thead>\n",
       "  <tbody>\n",
       "    <tr>\n",
       "      <th>0</th>\n",
       "      <td>11</td>\n",
       "      <td>6</td>\n",
       "      <td>34</td>\n",
       "      <td>43</td>\n",
       "      <td>1169</td>\n",
       "      <td>65</td>\n",
       "      <td>75</td>\n",
       "      <td>4</td>\n",
       "      <td>93</td>\n",
       "      <td>101</td>\n",
       "      <td>...</td>\n",
       "      <td>121</td>\n",
       "      <td>67</td>\n",
       "      <td>143</td>\n",
       "      <td>152</td>\n",
       "      <td>2</td>\n",
       "      <td>173</td>\n",
       "      <td>1</td>\n",
       "      <td>192</td>\n",
       "      <td>201</td>\n",
       "      <td>1</td>\n",
       "    </tr>\n",
       "    <tr>\n",
       "      <th>1</th>\n",
       "      <td>12</td>\n",
       "      <td>48</td>\n",
       "      <td>32</td>\n",
       "      <td>43</td>\n",
       "      <td>5951</td>\n",
       "      <td>61</td>\n",
       "      <td>73</td>\n",
       "      <td>2</td>\n",
       "      <td>92</td>\n",
       "      <td>101</td>\n",
       "      <td>...</td>\n",
       "      <td>121</td>\n",
       "      <td>22</td>\n",
       "      <td>143</td>\n",
       "      <td>152</td>\n",
       "      <td>1</td>\n",
       "      <td>173</td>\n",
       "      <td>1</td>\n",
       "      <td>191</td>\n",
       "      <td>201</td>\n",
       "      <td>2</td>\n",
       "    </tr>\n",
       "    <tr>\n",
       "      <th>2</th>\n",
       "      <td>14</td>\n",
       "      <td>12</td>\n",
       "      <td>34</td>\n",
       "      <td>46</td>\n",
       "      <td>2096</td>\n",
       "      <td>61</td>\n",
       "      <td>74</td>\n",
       "      <td>2</td>\n",
       "      <td>93</td>\n",
       "      <td>101</td>\n",
       "      <td>...</td>\n",
       "      <td>121</td>\n",
       "      <td>49</td>\n",
       "      <td>143</td>\n",
       "      <td>152</td>\n",
       "      <td>1</td>\n",
       "      <td>172</td>\n",
       "      <td>2</td>\n",
       "      <td>191</td>\n",
       "      <td>201</td>\n",
       "      <td>1</td>\n",
       "    </tr>\n",
       "    <tr>\n",
       "      <th>3</th>\n",
       "      <td>11</td>\n",
       "      <td>42</td>\n",
       "      <td>32</td>\n",
       "      <td>42</td>\n",
       "      <td>7882</td>\n",
       "      <td>61</td>\n",
       "      <td>74</td>\n",
       "      <td>2</td>\n",
       "      <td>93</td>\n",
       "      <td>103</td>\n",
       "      <td>...</td>\n",
       "      <td>122</td>\n",
       "      <td>45</td>\n",
       "      <td>143</td>\n",
       "      <td>153</td>\n",
       "      <td>1</td>\n",
       "      <td>173</td>\n",
       "      <td>2</td>\n",
       "      <td>191</td>\n",
       "      <td>201</td>\n",
       "      <td>1</td>\n",
       "    </tr>\n",
       "    <tr>\n",
       "      <th>4</th>\n",
       "      <td>11</td>\n",
       "      <td>24</td>\n",
       "      <td>33</td>\n",
       "      <td>40</td>\n",
       "      <td>4870</td>\n",
       "      <td>61</td>\n",
       "      <td>73</td>\n",
       "      <td>3</td>\n",
       "      <td>93</td>\n",
       "      <td>101</td>\n",
       "      <td>...</td>\n",
       "      <td>124</td>\n",
       "      <td>53</td>\n",
       "      <td>143</td>\n",
       "      <td>153</td>\n",
       "      <td>2</td>\n",
       "      <td>173</td>\n",
       "      <td>2</td>\n",
       "      <td>191</td>\n",
       "      <td>201</td>\n",
       "      <td>2</td>\n",
       "    </tr>\n",
       "  </tbody>\n",
       "</table>\n",
       "<p>5 rows × 21 columns</p>\n",
       "</div>"
      ],
      "text/plain": [
       "   status  duration  history  purpose  amount  savings  employment  rate  \\\n",
       "0      11         6       34       43    1169       65          75     4   \n",
       "1      12        48       32       43    5951       61          73     2   \n",
       "2      14        12       34       46    2096       61          74     2   \n",
       "3      11        42       32       42    7882       61          74     2   \n",
       "4      11        24       33       40    4870       61          73     3   \n",
       "\n",
       "   personal  guarantor   ...    propert  age  other_debt  housing_type  \\\n",
       "0        93        101   ...        121   67         143           152   \n",
       "1        92        101   ...        121   22         143           152   \n",
       "2        93        101   ...        121   49         143           152   \n",
       "3        93        103   ...        122   45         143           153   \n",
       "4        93        101   ...        124   53         143           153   \n",
       "\n",
       "   existing_credit_bank  job  dependents  phone  foreign  target  \n",
       "0                     2  173           1    192      201       1  \n",
       "1                     1  173           1    191      201       2  \n",
       "2                     1  172           2    191      201       1  \n",
       "3                     1  173           2    191      201       1  \n",
       "4                     2  173           2    191      201       2  \n",
       "\n",
       "[5 rows x 21 columns]"
      ]
     },
     "execution_count": 14,
     "metadata": {},
     "output_type": "execute_result"
    }
   ],
   "source": [
    "german.head()"
   ]
  },
  {
   "cell_type": "code",
   "execution_count": 15,
   "metadata": {
    "collapsed": true
   },
   "outputs": [],
   "source": [
    "attribute_dict = {1:['checking', 'history', 'purpose', 'savings',\n",
    "                    'employment', 'status', 'guarantor','propert', 'other_debt', 'housing_type', \n",
    "                    'job', 'phone', 'foreign'], \n",
    "                  2:['duration', 'amount', 'rate', 'residence_time','age', 'existing_credit_bank',\n",
    "                     'dependents',]}"
   ]
  },
  {
   "cell_type": "code",
   "execution_count": 16,
   "metadata": {
    "scrolled": true
   },
   "outputs": [
    {
     "data": {
      "text/html": [
       "<div>\n",
       "<style>\n",
       "    .dataframe thead tr:only-child th {\n",
       "        text-align: right;\n",
       "    }\n",
       "\n",
       "    .dataframe thead th {\n",
       "        text-align: left;\n",
       "    }\n",
       "\n",
       "    .dataframe tbody tr th {\n",
       "        vertical-align: top;\n",
       "    }\n",
       "</style>\n",
       "<table border=\"1\" class=\"dataframe\">\n",
       "  <thead>\n",
       "    <tr style=\"text-align: right;\">\n",
       "      <th></th>\n",
       "      <th>status</th>\n",
       "      <th>duration</th>\n",
       "      <th>history</th>\n",
       "      <th>purpose</th>\n",
       "      <th>amount</th>\n",
       "      <th>savings</th>\n",
       "      <th>employment</th>\n",
       "      <th>rate</th>\n",
       "      <th>personal</th>\n",
       "      <th>guarantor</th>\n",
       "      <th>...</th>\n",
       "      <th>propert</th>\n",
       "      <th>age</th>\n",
       "      <th>other_debt</th>\n",
       "      <th>housing_type</th>\n",
       "      <th>existing_credit_bank</th>\n",
       "      <th>job</th>\n",
       "      <th>dependents</th>\n",
       "      <th>phone</th>\n",
       "      <th>foreign</th>\n",
       "      <th>target</th>\n",
       "    </tr>\n",
       "  </thead>\n",
       "  <tbody>\n",
       "    <tr>\n",
       "      <th>count</th>\n",
       "      <td>1000.000000</td>\n",
       "      <td>1000.000000</td>\n",
       "      <td>1000.00000</td>\n",
       "      <td>1000.000000</td>\n",
       "      <td>1000.000000</td>\n",
       "      <td>1000.000000</td>\n",
       "      <td>1000.000000</td>\n",
       "      <td>1000.000000</td>\n",
       "      <td>1000.00000</td>\n",
       "      <td>1000.000000</td>\n",
       "      <td>...</td>\n",
       "      <td>1000.000000</td>\n",
       "      <td>1000.000000</td>\n",
       "      <td>1000.000000</td>\n",
       "      <td>1000.000000</td>\n",
       "      <td>1000.000000</td>\n",
       "      <td>1000.000000</td>\n",
       "      <td>1000.000000</td>\n",
       "      <td>1000.000000</td>\n",
       "      <td>1000.000000</td>\n",
       "      <td>1000.000000</td>\n",
       "    </tr>\n",
       "    <tr>\n",
       "      <th>mean</th>\n",
       "      <td>12.577000</td>\n",
       "      <td>20.903000</td>\n",
       "      <td>32.54500</td>\n",
       "      <td>47.148000</td>\n",
       "      <td>3271.258000</td>\n",
       "      <td>62.105000</td>\n",
       "      <td>73.384000</td>\n",
       "      <td>2.973000</td>\n",
       "      <td>92.68200</td>\n",
       "      <td>101.145000</td>\n",
       "      <td>...</td>\n",
       "      <td>122.358000</td>\n",
       "      <td>35.546000</td>\n",
       "      <td>142.675000</td>\n",
       "      <td>151.929000</td>\n",
       "      <td>1.407000</td>\n",
       "      <td>172.904000</td>\n",
       "      <td>1.155000</td>\n",
       "      <td>191.404000</td>\n",
       "      <td>201.037000</td>\n",
       "      <td>1.300000</td>\n",
       "    </tr>\n",
       "    <tr>\n",
       "      <th>std</th>\n",
       "      <td>1.257638</td>\n",
       "      <td>12.058814</td>\n",
       "      <td>1.08312</td>\n",
       "      <td>40.095333</td>\n",
       "      <td>2822.736876</td>\n",
       "      <td>1.580023</td>\n",
       "      <td>1.208306</td>\n",
       "      <td>1.118715</td>\n",
       "      <td>0.70808</td>\n",
       "      <td>0.477706</td>\n",
       "      <td>...</td>\n",
       "      <td>1.050209</td>\n",
       "      <td>11.375469</td>\n",
       "      <td>0.705601</td>\n",
       "      <td>0.531264</td>\n",
       "      <td>0.577654</td>\n",
       "      <td>0.653614</td>\n",
       "      <td>0.362086</td>\n",
       "      <td>0.490943</td>\n",
       "      <td>0.188856</td>\n",
       "      <td>0.458487</td>\n",
       "    </tr>\n",
       "    <tr>\n",
       "      <th>min</th>\n",
       "      <td>11.000000</td>\n",
       "      <td>4.000000</td>\n",
       "      <td>30.00000</td>\n",
       "      <td>40.000000</td>\n",
       "      <td>250.000000</td>\n",
       "      <td>61.000000</td>\n",
       "      <td>71.000000</td>\n",
       "      <td>1.000000</td>\n",
       "      <td>91.00000</td>\n",
       "      <td>101.000000</td>\n",
       "      <td>...</td>\n",
       "      <td>121.000000</td>\n",
       "      <td>19.000000</td>\n",
       "      <td>141.000000</td>\n",
       "      <td>151.000000</td>\n",
       "      <td>1.000000</td>\n",
       "      <td>171.000000</td>\n",
       "      <td>1.000000</td>\n",
       "      <td>191.000000</td>\n",
       "      <td>201.000000</td>\n",
       "      <td>1.000000</td>\n",
       "    </tr>\n",
       "    <tr>\n",
       "      <th>25%</th>\n",
       "      <td>11.000000</td>\n",
       "      <td>12.000000</td>\n",
       "      <td>32.00000</td>\n",
       "      <td>41.000000</td>\n",
       "      <td>1365.500000</td>\n",
       "      <td>61.000000</td>\n",
       "      <td>73.000000</td>\n",
       "      <td>2.000000</td>\n",
       "      <td>92.00000</td>\n",
       "      <td>101.000000</td>\n",
       "      <td>...</td>\n",
       "      <td>121.000000</td>\n",
       "      <td>27.000000</td>\n",
       "      <td>143.000000</td>\n",
       "      <td>152.000000</td>\n",
       "      <td>1.000000</td>\n",
       "      <td>173.000000</td>\n",
       "      <td>1.000000</td>\n",
       "      <td>191.000000</td>\n",
       "      <td>201.000000</td>\n",
       "      <td>1.000000</td>\n",
       "    </tr>\n",
       "    <tr>\n",
       "      <th>50%</th>\n",
       "      <td>12.000000</td>\n",
       "      <td>18.000000</td>\n",
       "      <td>32.00000</td>\n",
       "      <td>42.000000</td>\n",
       "      <td>2319.500000</td>\n",
       "      <td>61.000000</td>\n",
       "      <td>73.000000</td>\n",
       "      <td>3.000000</td>\n",
       "      <td>93.00000</td>\n",
       "      <td>101.000000</td>\n",
       "      <td>...</td>\n",
       "      <td>122.000000</td>\n",
       "      <td>33.000000</td>\n",
       "      <td>143.000000</td>\n",
       "      <td>152.000000</td>\n",
       "      <td>1.000000</td>\n",
       "      <td>173.000000</td>\n",
       "      <td>1.000000</td>\n",
       "      <td>191.000000</td>\n",
       "      <td>201.000000</td>\n",
       "      <td>1.000000</td>\n",
       "    </tr>\n",
       "    <tr>\n",
       "      <th>75%</th>\n",
       "      <td>14.000000</td>\n",
       "      <td>24.000000</td>\n",
       "      <td>34.00000</td>\n",
       "      <td>43.000000</td>\n",
       "      <td>3972.250000</td>\n",
       "      <td>63.000000</td>\n",
       "      <td>75.000000</td>\n",
       "      <td>4.000000</td>\n",
       "      <td>93.00000</td>\n",
       "      <td>101.000000</td>\n",
       "      <td>...</td>\n",
       "      <td>123.000000</td>\n",
       "      <td>42.000000</td>\n",
       "      <td>143.000000</td>\n",
       "      <td>152.000000</td>\n",
       "      <td>2.000000</td>\n",
       "      <td>173.000000</td>\n",
       "      <td>1.000000</td>\n",
       "      <td>192.000000</td>\n",
       "      <td>201.000000</td>\n",
       "      <td>2.000000</td>\n",
       "    </tr>\n",
       "    <tr>\n",
       "      <th>max</th>\n",
       "      <td>14.000000</td>\n",
       "      <td>72.000000</td>\n",
       "      <td>34.00000</td>\n",
       "      <td>410.000000</td>\n",
       "      <td>18424.000000</td>\n",
       "      <td>65.000000</td>\n",
       "      <td>75.000000</td>\n",
       "      <td>4.000000</td>\n",
       "      <td>94.00000</td>\n",
       "      <td>103.000000</td>\n",
       "      <td>...</td>\n",
       "      <td>124.000000</td>\n",
       "      <td>75.000000</td>\n",
       "      <td>143.000000</td>\n",
       "      <td>153.000000</td>\n",
       "      <td>4.000000</td>\n",
       "      <td>174.000000</td>\n",
       "      <td>2.000000</td>\n",
       "      <td>192.000000</td>\n",
       "      <td>202.000000</td>\n",
       "      <td>2.000000</td>\n",
       "    </tr>\n",
       "  </tbody>\n",
       "</table>\n",
       "<p>8 rows × 21 columns</p>\n",
       "</div>"
      ],
      "text/plain": [
       "            status     duration     history      purpose        amount  \\\n",
       "count  1000.000000  1000.000000  1000.00000  1000.000000   1000.000000   \n",
       "mean     12.577000    20.903000    32.54500    47.148000   3271.258000   \n",
       "std       1.257638    12.058814     1.08312    40.095333   2822.736876   \n",
       "min      11.000000     4.000000    30.00000    40.000000    250.000000   \n",
       "25%      11.000000    12.000000    32.00000    41.000000   1365.500000   \n",
       "50%      12.000000    18.000000    32.00000    42.000000   2319.500000   \n",
       "75%      14.000000    24.000000    34.00000    43.000000   3972.250000   \n",
       "max      14.000000    72.000000    34.00000   410.000000  18424.000000   \n",
       "\n",
       "           savings   employment         rate    personal    guarantor  \\\n",
       "count  1000.000000  1000.000000  1000.000000  1000.00000  1000.000000   \n",
       "mean     62.105000    73.384000     2.973000    92.68200   101.145000   \n",
       "std       1.580023     1.208306     1.118715     0.70808     0.477706   \n",
       "min      61.000000    71.000000     1.000000    91.00000   101.000000   \n",
       "25%      61.000000    73.000000     2.000000    92.00000   101.000000   \n",
       "50%      61.000000    73.000000     3.000000    93.00000   101.000000   \n",
       "75%      63.000000    75.000000     4.000000    93.00000   101.000000   \n",
       "max      65.000000    75.000000     4.000000    94.00000   103.000000   \n",
       "\n",
       "          ...           propert          age   other_debt  housing_type  \\\n",
       "count     ...       1000.000000  1000.000000  1000.000000   1000.000000   \n",
       "mean      ...        122.358000    35.546000   142.675000    151.929000   \n",
       "std       ...          1.050209    11.375469     0.705601      0.531264   \n",
       "min       ...        121.000000    19.000000   141.000000    151.000000   \n",
       "25%       ...        121.000000    27.000000   143.000000    152.000000   \n",
       "50%       ...        122.000000    33.000000   143.000000    152.000000   \n",
       "75%       ...        123.000000    42.000000   143.000000    152.000000   \n",
       "max       ...        124.000000    75.000000   143.000000    153.000000   \n",
       "\n",
       "       existing_credit_bank          job   dependents        phone  \\\n",
       "count           1000.000000  1000.000000  1000.000000  1000.000000   \n",
       "mean               1.407000   172.904000     1.155000   191.404000   \n",
       "std                0.577654     0.653614     0.362086     0.490943   \n",
       "min                1.000000   171.000000     1.000000   191.000000   \n",
       "25%                1.000000   173.000000     1.000000   191.000000   \n",
       "50%                1.000000   173.000000     1.000000   191.000000   \n",
       "75%                2.000000   173.000000     1.000000   192.000000   \n",
       "max                4.000000   174.000000     2.000000   192.000000   \n",
       "\n",
       "           foreign       target  \n",
       "count  1000.000000  1000.000000  \n",
       "mean    201.037000     1.300000  \n",
       "std       0.188856     0.458487  \n",
       "min     201.000000     1.000000  \n",
       "25%     201.000000     1.000000  \n",
       "50%     201.000000     1.000000  \n",
       "75%     201.000000     2.000000  \n",
       "max     202.000000     2.000000  \n",
       "\n",
       "[8 rows x 21 columns]"
      ]
     },
     "execution_count": 16,
     "metadata": {},
     "output_type": "execute_result"
    }
   ],
   "source": [
    "german.describe()"
   ]
  },
  {
   "cell_type": "markdown",
   "metadata": {},
   "source": [
    "# Feature Selection\n",
    "Using information theory, as outlined in Provost and Fawcett (2013). We calculated the information gained for each of the attributes. As an example we will display the calculations for the attribute `status`.\n",
    "\n",
    "First, based on the data set, the overall probabilities of good credit or bad credit can be calculated:"
   ]
  },
  {
   "cell_type": "code",
   "execution_count": 17,
   "metadata": {},
   "outputs": [
    {
     "name": "stdout",
     "output_type": "stream",
     "text": [
      "Probability of good credit = 0.7\n",
      "Probability of bad credit = 0.3\n"
     ]
    }
   ],
   "source": [
    "p_parent_good = german.where(german.target==1).dropna().shape[0]/german.shape[0]\n",
    "print(\"Probability of good credit = {}\".format(p_parent_good))\n",
    "p_parent_bad = german.where(german.target==2).dropna().shape[0]/german.shape[0]\n",
    "print(\"Probability of bad credit = {}\".format(p_parent_bad))"
   ]
  },
  {
   "cell_type": "markdown",
   "metadata": {},
   "source": [
    "The total entropy of the data set is calculated:"
   ]
  },
  {
   "cell_type": "code",
   "execution_count": 18,
   "metadata": {},
   "outputs": [
    {
     "name": "stdout",
     "output_type": "stream",
     "text": [
      "Parent Entropy = 0.8812908992306927\n"
     ]
    }
   ],
   "source": [
    "parent_entropy = - (p_parent_good * log(p_parent_good, 2) + p_parent_bad * log(p_parent_bad, 2))\n",
    "print(\"Parent Entropy = {}\".format(parent_entropy))"
   ]
  },
  {
   "cell_type": "markdown",
   "metadata": {},
   "source": [
    "In order to understand how informative the attribute is we need to calculate the information gained. This is done by calculating how much the attribute reduces the entropy of the segmentations created by splitting the data set along the values of the attribute."
   ]
  },
  {
   "cell_type": "code",
   "execution_count": 19,
   "metadata": {},
   "outputs": [
    {
     "name": "stdout",
     "output_type": "stream",
     "text": [
      "Probability of value 11: 0.274\n",
      "Probability for value 11, to have good credit: 0.5072992700729927\n",
      "Probability for value 11, to have bad credit: 0.4927007299270073\n",
      "Entropy of child with value 11: 0.9998462628494693\n",
      "--------------------------------------------------------\n",
      "Probability of value 12: 0.269\n",
      "Probability for value 12, to have good credit: 0.6096654275092936\n",
      "Probability for value 12, to have bad credit: 0.3903345724907063\n",
      "Entropy of child with value 12: 0.9650151205034324\n",
      "--------------------------------------------------------\n",
      "Probability of value 13: 0.063\n",
      "Probability for value 13, to have good credit: 0.7777777777777778\n",
      "Probability for value 13, to have bad credit: 0.2222222222222222\n",
      "Entropy of child with value 13: 0.7642045065086203\n",
      "--------------------------------------------------------\n",
      "Probability of value 14: 0.394\n",
      "Probability for value 14, to have good credit: 0.883248730964467\n",
      "Probability for value 14, to have bad credit: 0.116751269035533\n",
      "Entropy of child with value 14: 0.5199498231772391\n",
      "--------------------------------------------------------\n"
     ]
    }
   ],
   "source": [
    "feature_values_for_status = [11,12,13,14]\n",
    "\n",
    "status_value_series = {}\n",
    "#Split the data set along the values of the attributes.\n",
    "for value in feature_values_for_status:\n",
    "    status_value_series[value] = german.where(german['status']==value).dropna().target\n",
    "\n",
    "IG_children = 0\n",
    "for key, series in status_value_series.items():\n",
    "    p_status_value = series.shape[0] / german.shape[0]\n",
    "    p_series_good = series.where(series==1).dropna().shape[0] / series.shape[0]\n",
    "    p_series_bad = series.where(series==2).dropna().shape[0] / series.shape[0]\n",
    "    entropy_child = -(p_series_good * log(p_series_good, 2) + p_series_bad * log(p_series_bad, 2))\n",
    "    IG_children = IG_children + (p_status_value * entropy_child)\n",
    "    print(\"Probability of value {}: {}\".format(key, p_status_value))\n",
    "    print(\"Probability for value {}, to have good credit: {}\".format(key, p_series_good))\n",
    "    print(\"Probability for value {}, to have bad credit: {}\".format(key, p_series_bad))\n",
    "    print(\"Entropy of child with value {}: {}\".format(key, entropy_child))\n",
    "    print(\"--------------------------------------------------------\")"
   ]
  },
  {
   "cell_type": "markdown",
   "metadata": {},
   "source": [
    "We use the sum of the products of the children entropies and probabilities and subtract it from the entropy of the parent:"
   ]
  },
  {
   "cell_type": "code",
   "execution_count": 20,
   "metadata": {},
   "outputs": [
    {
     "name": "stdout",
     "output_type": "stream",
     "text": [
      "Information Gain for attribute status: 0.09473884155263945\n"
     ]
    }
   ],
   "source": [
    "IG = parent_entropy - IG_children\n",
    "print(\"Information Gain for attribute status: {}\".format(IG))"
   ]
  },
  {
   "cell_type": "markdown",
   "metadata": {},
   "source": [
    "##### Noted as most relevant attributes "
   ]
  },
  {
   "cell_type": "code",
   "execution_count": 21,
   "metadata": {
    "collapsed": true
   },
   "outputs": [],
   "source": [
    "german2 = german[['duration', 'history','amount', 'savings',\n",
    "       'status','housing_type', 'foreign','target']]"
   ]
  },
  {
   "cell_type": "code",
   "execution_count": 22,
   "metadata": {},
   "outputs": [
    {
     "data": {
      "text/html": [
       "<div>\n",
       "<style>\n",
       "    .dataframe thead tr:only-child th {\n",
       "        text-align: right;\n",
       "    }\n",
       "\n",
       "    .dataframe thead th {\n",
       "        text-align: left;\n",
       "    }\n",
       "\n",
       "    .dataframe tbody tr th {\n",
       "        vertical-align: top;\n",
       "    }\n",
       "</style>\n",
       "<table border=\"1\" class=\"dataframe\">\n",
       "  <thead>\n",
       "    <tr style=\"text-align: right;\">\n",
       "      <th></th>\n",
       "      <th>duration</th>\n",
       "      <th>history</th>\n",
       "      <th>amount</th>\n",
       "      <th>savings</th>\n",
       "      <th>status</th>\n",
       "      <th>housing_type</th>\n",
       "      <th>foreign</th>\n",
       "      <th>target</th>\n",
       "    </tr>\n",
       "  </thead>\n",
       "  <tbody>\n",
       "    <tr>\n",
       "      <th>0</th>\n",
       "      <td>6</td>\n",
       "      <td>34</td>\n",
       "      <td>1169</td>\n",
       "      <td>65</td>\n",
       "      <td>11</td>\n",
       "      <td>152</td>\n",
       "      <td>201</td>\n",
       "      <td>1</td>\n",
       "    </tr>\n",
       "    <tr>\n",
       "      <th>1</th>\n",
       "      <td>48</td>\n",
       "      <td>32</td>\n",
       "      <td>5951</td>\n",
       "      <td>61</td>\n",
       "      <td>12</td>\n",
       "      <td>152</td>\n",
       "      <td>201</td>\n",
       "      <td>2</td>\n",
       "    </tr>\n",
       "    <tr>\n",
       "      <th>2</th>\n",
       "      <td>12</td>\n",
       "      <td>34</td>\n",
       "      <td>2096</td>\n",
       "      <td>61</td>\n",
       "      <td>14</td>\n",
       "      <td>152</td>\n",
       "      <td>201</td>\n",
       "      <td>1</td>\n",
       "    </tr>\n",
       "    <tr>\n",
       "      <th>3</th>\n",
       "      <td>42</td>\n",
       "      <td>32</td>\n",
       "      <td>7882</td>\n",
       "      <td>61</td>\n",
       "      <td>11</td>\n",
       "      <td>153</td>\n",
       "      <td>201</td>\n",
       "      <td>1</td>\n",
       "    </tr>\n",
       "    <tr>\n",
       "      <th>4</th>\n",
       "      <td>24</td>\n",
       "      <td>33</td>\n",
       "      <td>4870</td>\n",
       "      <td>61</td>\n",
       "      <td>11</td>\n",
       "      <td>153</td>\n",
       "      <td>201</td>\n",
       "      <td>2</td>\n",
       "    </tr>\n",
       "  </tbody>\n",
       "</table>\n",
       "</div>"
      ],
      "text/plain": [
       "   duration  history  amount  savings  status  housing_type  foreign  target\n",
       "0         6       34    1169       65      11           152      201       1\n",
       "1        48       32    5951       61      12           152      201       2\n",
       "2        12       34    2096       61      14           152      201       1\n",
       "3        42       32    7882       61      11           153      201       1\n",
       "4        24       33    4870       61      11           153      201       2"
      ]
     },
     "execution_count": 22,
     "metadata": {},
     "output_type": "execute_result"
    }
   ],
   "source": [
    "german2.head()\n"
   ]
  },
  {
   "cell_type": "markdown",
   "metadata": {},
   "source": [
    "### Chop up the data (training, testing)"
   ]
  },
  {
   "cell_type": "code",
   "execution_count": 23,
   "metadata": {
    "collapsed": true
   },
   "outputs": [],
   "source": [
    "from sklearn.model_selection import train_test_split"
   ]
  },
  {
   "cell_type": "code",
   "execution_count": 24,
   "metadata": {
    "collapsed": true
   },
   "outputs": [],
   "source": [
    "x_data = german2.drop('target',axis=1)"
   ]
  },
  {
   "cell_type": "code",
   "execution_count": 25,
   "metadata": {
    "collapsed": true
   },
   "outputs": [],
   "source": [
    "y_labels = german2['target']"
   ]
  },
  {
   "cell_type": "code",
   "execution_count": 26,
   "metadata": {
    "collapsed": true
   },
   "outputs": [],
   "source": [
    "X_train, X_test, y_train, y_test = train_test_split(x_data, y_labels, test_size=0.025, random_state=101)"
   ]
  },
  {
   "cell_type": "code",
   "execution_count": 27,
   "metadata": {},
   "outputs": [
    {
     "data": {
      "text/plain": [
       "Index(['status', 'duration', 'history', 'purpose', 'amount', 'savings',\n",
       "       'employment', 'rate', 'personal', 'guarantor', 'residence_time',\n",
       "       'propert', 'age', 'other_debt', 'housing_type', 'existing_credit_bank',\n",
       "       'job', 'dependents', 'phone', 'foreign', 'target'],\n",
       "      dtype='object')"
      ]
     },
     "execution_count": 27,
     "metadata": {},
     "output_type": "execute_result"
    }
   ],
   "source": [
    "german.columns"
   ]
  },
  {
   "cell_type": "code",
   "execution_count": 28,
   "metadata": {
    "collapsed": true
   },
   "outputs": [],
   "source": [
    "import tensorflow as tf"
   ]
  },
  {
   "cell_type": "markdown",
   "metadata": {},
   "source": [
    "### Assign feature columns for TensorFlow (numeric, categorical, etc.)"
   ]
  },
  {
   "cell_type": "code",
   "execution_count": 29,
   "metadata": {
    "collapsed": true
   },
   "outputs": [],
   "source": [
    "history = tf.feature_column.numeric_column(\"history\")\n",
    "savings = tf.feature_column.numeric_column(\"savings\")\n",
    "status = tf.feature_column.numeric_column(\"status\")\n",
    "housing_type = tf.feature_column.numeric_column(\"housing_type\")\n",
    "foreign = tf.feature_column.numeric_column(\"foreign\")\n",
    "duration = tf.feature_column.numeric_column(\"duration\")\n",
    "amount = tf.feature_column.numeric_column(\"amount\")"
   ]
  },
  {
   "cell_type": "code",
   "execution_count": 30,
   "metadata": {},
   "outputs": [
    {
     "name": "stdout",
     "output_type": "stream",
     "text": [
      "['checking', 'history', 'purpose', 'savings', 'employment', 'status', 'guarantor', 'propert', 'other_debt', 'housing_type', 'job', 'phone', 'foreign']\n",
      "['duration', 'amount', 'rate', 'residence_time', 'age', 'existing_credit_bank', 'dependents']\n"
     ]
    }
   ],
   "source": [
    "for attribute in attribute_dict.values():\n",
    "    print(attribute)"
   ]
  },
  {
   "cell_type": "code",
   "execution_count": 31,
   "metadata": {
    "collapsed": true
   },
   "outputs": [],
   "source": [
    "feat_cols = [duration, history,amount, savings,\n",
    "            status,housing_type, foreign]"
   ]
  },
  {
   "cell_type": "markdown",
   "metadata": {},
   "source": [
    "### Create model and Input the data"
   ]
  },
  {
   "cell_type": "code",
   "execution_count": 32,
   "metadata": {
    "collapsed": true
   },
   "outputs": [],
   "source": [
    "input_func = tf.estimator.inputs.pandas_input_fn(x=X_train,y=y_train,batch_size=10,num_epochs=1000,shuffle=True)"
   ]
  },
  {
   "cell_type": "code",
   "execution_count": 33,
   "metadata": {
    "scrolled": true
   },
   "outputs": [
    {
     "name": "stdout",
     "output_type": "stream",
     "text": [
      "INFO:tensorflow:Using default config.\n",
      "WARNING:tensorflow:Using temporary folder as model directory: C:\\Users\\JMORR_~1\\AppData\\Local\\Temp\\tmp6_dyn0ox\n",
      "INFO:tensorflow:Using config: {'_save_summary_steps': 100, '_model_dir': 'C:\\\\Users\\\\JMORR_~1\\\\AppData\\\\Local\\\\Temp\\\\tmp6_dyn0ox', '_keep_checkpoint_every_n_hours': 10000, '_keep_checkpoint_max': 5, '_tf_random_seed': 1, '_log_step_count_steps': 100, '_save_checkpoints_steps': None, '_session_config': None, '_save_checkpoints_secs': 600}\n"
     ]
    }
   ],
   "source": [
    "dnn_model = tf.estimator.DNNClassifier(hidden_units=[9,9,9],feature_columns=feat_cols, n_classes=4)"
   ]
  },
  {
   "cell_type": "code",
   "execution_count": 34,
   "metadata": {},
   "outputs": [
    {
     "name": "stdout",
     "output_type": "stream",
     "text": [
      "INFO:tensorflow:Create CheckpointSaverHook.\n",
      "INFO:tensorflow:Saving checkpoints for 1 into C:\\Users\\JMORR_~1\\AppData\\Local\\Temp\\tmp6_dyn0ox\\model.ckpt.\n",
      "INFO:tensorflow:step = 1, loss = 5451.99\n",
      "INFO:tensorflow:global_step/sec: 167.825\n",
      "INFO:tensorflow:step = 101, loss = 7.13607 (0.627 sec)\n",
      "INFO:tensorflow:global_step/sec: 143.61\n",
      "INFO:tensorflow:step = 201, loss = 7.09184 (0.698 sec)\n",
      "INFO:tensorflow:global_step/sec: 133.357\n",
      "INFO:tensorflow:step = 301, loss = 7.47571 (0.733 sec)\n",
      "INFO:tensorflow:global_step/sec: 146.154\n",
      "INFO:tensorflow:step = 401, loss = 8.62339 (0.684 sec)\n",
      "INFO:tensorflow:global_step/sec: 133.65\n",
      "INFO:tensorflow:step = 501, loss = 6.40877 (0.760 sec)\n",
      "INFO:tensorflow:global_step/sec: 161.241\n",
      "INFO:tensorflow:step = 601, loss = 5.13535 (0.604 sec)\n",
      "INFO:tensorflow:global_step/sec: 146.154\n",
      "INFO:tensorflow:step = 701, loss = 6.0388 (0.708 sec)\n",
      "INFO:tensorflow:global_step/sec: 135.094\n",
      "INFO:tensorflow:step = 801, loss = 5.83883 (0.736 sec)\n",
      "INFO:tensorflow:global_step/sec: 138.847\n",
      "INFO:tensorflow:step = 901, loss = 6.07991 (0.712 sec)\n",
      "INFO:tensorflow:Saving checkpoints for 1000 into C:\\Users\\JMORR_~1\\AppData\\Local\\Temp\\tmp6_dyn0ox\\model.ckpt.\n",
      "INFO:tensorflow:Loss for final step: 4.01769.\n"
     ]
    }
   ],
   "source": [
    "hist = dnn_model.train(input_fn=input_func,steps=1000)"
   ]
  },
  {
   "cell_type": "markdown",
   "metadata": {},
   "source": [
    "### Evaluate the predictions"
   ]
  },
  {
   "cell_type": "code",
   "execution_count": 35,
   "metadata": {
    "collapsed": true
   },
   "outputs": [],
   "source": [
    "eval_input_func = tf.estimator.inputs.pandas_input_fn(x=X_test,y=y_test,batch_size=15,num_epochs=1,shuffle=False)"
   ]
  },
  {
   "cell_type": "code",
   "execution_count": 36,
   "metadata": {
    "scrolled": true
   },
   "outputs": [
    {
     "name": "stdout",
     "output_type": "stream",
     "text": [
      "INFO:tensorflow:Starting evaluation at 2019-02-27-12:02:21\n",
      "INFO:tensorflow:Restoring parameters from C:\\Users\\JMORR_~1\\AppData\\Local\\Temp\\tmp6_dyn0ox\\model.ckpt-1000\n",
      "INFO:tensorflow:Finished evaluation at 2019-02-27-12:02:24\n",
      "INFO:tensorflow:Saving dict for global step 1000: accuracy = 0.76, average_loss = 0.552021, global_step = 1000, loss = 6.90026\n"
     ]
    }
   ],
   "source": [
    "evaluation = dnn_model.evaluate(eval_input_func)"
   ]
  },
  {
   "cell_type": "code",
   "execution_count": 37,
   "metadata": {
    "collapsed": true
   },
   "outputs": [],
   "source": [
    "tf_eval = pd.DataFrame([{\"Accuracy\": evaluation['accuracy'],\"Loss\":evaluation[\"loss\"],\"Average Loss\": evaluation[\"average_loss\"]}])"
   ]
  },
  {
   "cell_type": "code",
   "execution_count": 38,
   "metadata": {},
   "outputs": [
    {
     "name": "stdout",
     "output_type": "stream",
     "text": [
      "INFO:tensorflow:Restoring parameters from C:\\Users\\JMORR_~1\\AppData\\Local\\Temp\\tmp6_dyn0ox\\model.ckpt-1000\n"
     ]
    }
   ],
   "source": [
    "predictions = list(dnn_model.predict(eval_input_func))"
   ]
  },
  {
   "cell_type": "code",
   "execution_count": 39,
   "metadata": {
    "collapsed": true
   },
   "outputs": [],
   "source": [
    "final_preds = []\n",
    "for pred in predictions:\n",
    "    final_preds.append(pred['class_ids'][0])\n",
    "    \n",
    "test_targets = []\n",
    "for y in y_test:\n",
    "    test_targets.append(y)"
   ]
  },
  {
   "cell_type": "code",
   "execution_count": 40,
   "metadata": {},
   "outputs": [
    {
     "data": {
      "text/plain": [
       "30"
      ]
     },
     "execution_count": 40,
     "metadata": {},
     "output_type": "execute_result"
    }
   ],
   "source": [
    "results = pd.DataFrame({\"Predicted Result\": final_preds,\"Actual Result\":test_targets})\n",
    "score = 0\n",
    "index = 0\n",
    "\n",
    "for x in results['Actual Result']:\n",
    "    if x == 2 and results[\"Predicted Result\"][index] == 1:\n",
    "        score = score + 5\n",
    "    if x == 1 and results[\"Predicted Result\"][index] == 2:\n",
    "        score = score + 1\n",
    "    else:\n",
    "        score = score + 0\n",
    "    index += 1\n",
    "score"
   ]
  },
  {
   "cell_type": "code",
   "execution_count": 41,
   "metadata": {
    "collapsed": true
   },
   "outputs": [],
   "source": [
    "y_actu = pd.Series(test_targets, name='Actual')\n",
    "y_pred = pd.Series(final_preds, name='Predicted')"
   ]
  },
  {
   "cell_type": "code",
   "execution_count": 42,
   "metadata": {},
   "outputs": [
    {
     "data": {
      "text/html": [
       "<div>\n",
       "<style>\n",
       "    .dataframe thead tr:only-child th {\n",
       "        text-align: right;\n",
       "    }\n",
       "\n",
       "    .dataframe thead th {\n",
       "        text-align: left;\n",
       "    }\n",
       "\n",
       "    .dataframe tbody tr th {\n",
       "        vertical-align: top;\n",
       "    }\n",
       "</style>\n",
       "<table border=\"1\" class=\"dataframe\">\n",
       "  <thead>\n",
       "    <tr style=\"text-align: right;\">\n",
       "      <th>Predicted</th>\n",
       "      <th>1</th>\n",
       "      <th>2</th>\n",
       "      <th>All</th>\n",
       "    </tr>\n",
       "    <tr>\n",
       "      <th>Actual</th>\n",
       "      <th></th>\n",
       "      <th></th>\n",
       "      <th></th>\n",
       "    </tr>\n",
       "  </thead>\n",
       "  <tbody>\n",
       "    <tr>\n",
       "      <th>1</th>\n",
       "      <td>18</td>\n",
       "      <td>0</td>\n",
       "      <td>18</td>\n",
       "    </tr>\n",
       "    <tr>\n",
       "      <th>2</th>\n",
       "      <td>6</td>\n",
       "      <td>1</td>\n",
       "      <td>7</td>\n",
       "    </tr>\n",
       "    <tr>\n",
       "      <th>All</th>\n",
       "      <td>24</td>\n",
       "      <td>1</td>\n",
       "      <td>25</td>\n",
       "    </tr>\n",
       "  </tbody>\n",
       "</table>\n",
       "</div>"
      ],
      "text/plain": [
       "Predicted   1  2  All\n",
       "Actual               \n",
       "1          18  0   18\n",
       "2           6  1    7\n",
       "All        24  1   25"
      ]
     },
     "execution_count": 42,
     "metadata": {},
     "output_type": "execute_result"
    }
   ],
   "source": [
    "df_confusion = pd.crosstab(y_actu, y_pred, rownames=['Actual'], colnames=['Predicted'], margins=True)\n",
    "df_confusion"
   ]
  },
  {
   "cell_type": "code",
   "execution_count": 43,
   "metadata": {
    "collapsed": true
   },
   "outputs": [],
   "source": [
    "with pd.ExcelWriter('Results.xlsx') as writer:\n",
    "    results.to_excel(writer, sheet_name='Output')\n",
    "    tf_eval.to_excel(writer, sheet_name='Evaluation')\n",
    "    df_confusion.to_excel(writer, sheet_name='Confusion Matrix')"
   ]
  },
  {
   "cell_type": "code",
   "execution_count": 44,
   "metadata": {
    "collapsed": true
   },
   "outputs": [],
   "source": [
    "import os\n",
    "file = \"Results.xlsx\"\n",
    "os.startfile(file)"
   ]
  },
  {
   "cell_type": "code",
   "execution_count": null,
   "metadata": {
    "collapsed": true
   },
   "outputs": [],
   "source": []
  },
  {
   "cell_type": "code",
   "execution_count": null,
   "metadata": {
    "collapsed": true
   },
   "outputs": [],
   "source": []
  }
 ],
 "metadata": {
  "kernelspec": {
   "display_name": "Python 3",
   "language": "python",
   "name": "python3"
  },
  "language_info": {
   "codemirror_mode": {
    "name": "ipython",
    "version": 3
   },
   "file_extension": ".py",
   "mimetype": "text/x-python",
   "name": "python",
   "nbconvert_exporter": "python",
   "pygments_lexer": "ipython3",
   "version": "3.5.4"
  }
 },
 "nbformat": 4,
 "nbformat_minor": 2
}
