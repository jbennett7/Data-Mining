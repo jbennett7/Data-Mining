{
 "cells": [
  {
   "cell_type": "markdown",
   "metadata": {},
   "source": [
    "# German Credit Analysis, Using DNN"
   ]
  },
  {
   "cell_type": "code",
   "execution_count": 110,
   "metadata": {
    "collapsed": true
   },
   "outputs": [],
   "source": [
    "import pandas as pd"
   ]
  },
  {
   "cell_type": "markdown",
   "metadata": {},
   "source": [
    "### Read in the data"
   ]
  },
  {
   "cell_type": "code",
   "execution_count": 111,
   "metadata": {
    "collapsed": true,
    "scrolled": true
   },
   "outputs": [],
   "source": [
    "german = pd.read_csv('MGMT635_GermanCreditData.csv')"
   ]
  },
  {
   "cell_type": "code",
   "execution_count": 112,
   "metadata": {
    "scrolled": false
   },
   "outputs": [
    {
     "data": {
      "text/html": [
       "<div>\n",
       "<style>\n",
       "    .dataframe thead tr:only-child th {\n",
       "        text-align: right;\n",
       "    }\n",
       "\n",
       "    .dataframe thead th {\n",
       "        text-align: left;\n",
       "    }\n",
       "\n",
       "    .dataframe tbody tr th {\n",
       "        vertical-align: top;\n",
       "    }\n",
       "</style>\n",
       "<table border=\"1\" class=\"dataframe\">\n",
       "  <thead>\n",
       "    <tr style=\"text-align: right;\">\n",
       "      <th></th>\n",
       "      <th>checking</th>\n",
       "      <th>duration</th>\n",
       "      <th>history</th>\n",
       "      <th>purpose</th>\n",
       "      <th>amount</th>\n",
       "      <th>savings</th>\n",
       "      <th>employment</th>\n",
       "      <th>rate</th>\n",
       "      <th>status</th>\n",
       "      <th>guarantor</th>\n",
       "      <th>...</th>\n",
       "      <th>propert</th>\n",
       "      <th>age</th>\n",
       "      <th>other_debt</th>\n",
       "      <th>housing_type</th>\n",
       "      <th>existing_credit_bank</th>\n",
       "      <th>job</th>\n",
       "      <th>dependents</th>\n",
       "      <th>phone</th>\n",
       "      <th>foreign</th>\n",
       "      <th>target</th>\n",
       "    </tr>\n",
       "  </thead>\n",
       "  <tbody>\n",
       "    <tr>\n",
       "      <th>0</th>\n",
       "      <td>11</td>\n",
       "      <td>6</td>\n",
       "      <td>34</td>\n",
       "      <td>43</td>\n",
       "      <td>1169</td>\n",
       "      <td>65</td>\n",
       "      <td>75</td>\n",
       "      <td>4</td>\n",
       "      <td>93</td>\n",
       "      <td>101</td>\n",
       "      <td>...</td>\n",
       "      <td>121</td>\n",
       "      <td>67</td>\n",
       "      <td>143</td>\n",
       "      <td>152</td>\n",
       "      <td>2</td>\n",
       "      <td>173</td>\n",
       "      <td>1</td>\n",
       "      <td>192</td>\n",
       "      <td>201</td>\n",
       "      <td>1</td>\n",
       "    </tr>\n",
       "    <tr>\n",
       "      <th>1</th>\n",
       "      <td>12</td>\n",
       "      <td>48</td>\n",
       "      <td>32</td>\n",
       "      <td>43</td>\n",
       "      <td>5951</td>\n",
       "      <td>61</td>\n",
       "      <td>73</td>\n",
       "      <td>2</td>\n",
       "      <td>92</td>\n",
       "      <td>101</td>\n",
       "      <td>...</td>\n",
       "      <td>121</td>\n",
       "      <td>22</td>\n",
       "      <td>143</td>\n",
       "      <td>152</td>\n",
       "      <td>1</td>\n",
       "      <td>173</td>\n",
       "      <td>1</td>\n",
       "      <td>191</td>\n",
       "      <td>201</td>\n",
       "      <td>2</td>\n",
       "    </tr>\n",
       "    <tr>\n",
       "      <th>2</th>\n",
       "      <td>14</td>\n",
       "      <td>12</td>\n",
       "      <td>34</td>\n",
       "      <td>46</td>\n",
       "      <td>2096</td>\n",
       "      <td>61</td>\n",
       "      <td>74</td>\n",
       "      <td>2</td>\n",
       "      <td>93</td>\n",
       "      <td>101</td>\n",
       "      <td>...</td>\n",
       "      <td>121</td>\n",
       "      <td>49</td>\n",
       "      <td>143</td>\n",
       "      <td>152</td>\n",
       "      <td>1</td>\n",
       "      <td>172</td>\n",
       "      <td>2</td>\n",
       "      <td>191</td>\n",
       "      <td>201</td>\n",
       "      <td>1</td>\n",
       "    </tr>\n",
       "    <tr>\n",
       "      <th>3</th>\n",
       "      <td>11</td>\n",
       "      <td>42</td>\n",
       "      <td>32</td>\n",
       "      <td>42</td>\n",
       "      <td>7882</td>\n",
       "      <td>61</td>\n",
       "      <td>74</td>\n",
       "      <td>2</td>\n",
       "      <td>93</td>\n",
       "      <td>103</td>\n",
       "      <td>...</td>\n",
       "      <td>122</td>\n",
       "      <td>45</td>\n",
       "      <td>143</td>\n",
       "      <td>153</td>\n",
       "      <td>1</td>\n",
       "      <td>173</td>\n",
       "      <td>2</td>\n",
       "      <td>191</td>\n",
       "      <td>201</td>\n",
       "      <td>1</td>\n",
       "    </tr>\n",
       "    <tr>\n",
       "      <th>4</th>\n",
       "      <td>11</td>\n",
       "      <td>24</td>\n",
       "      <td>33</td>\n",
       "      <td>40</td>\n",
       "      <td>4870</td>\n",
       "      <td>61</td>\n",
       "      <td>73</td>\n",
       "      <td>3</td>\n",
       "      <td>93</td>\n",
       "      <td>101</td>\n",
       "      <td>...</td>\n",
       "      <td>124</td>\n",
       "      <td>53</td>\n",
       "      <td>143</td>\n",
       "      <td>153</td>\n",
       "      <td>2</td>\n",
       "      <td>173</td>\n",
       "      <td>2</td>\n",
       "      <td>191</td>\n",
       "      <td>201</td>\n",
       "      <td>2</td>\n",
       "    </tr>\n",
       "  </tbody>\n",
       "</table>\n",
       "<p>5 rows × 21 columns</p>\n",
       "</div>"
      ],
      "text/plain": [
       "   checking  duration  history  purpose  amount  savings  employment  rate  \\\n",
       "0        11         6       34       43    1169       65          75     4   \n",
       "1        12        48       32       43    5951       61          73     2   \n",
       "2        14        12       34       46    2096       61          74     2   \n",
       "3        11        42       32       42    7882       61          74     2   \n",
       "4        11        24       33       40    4870       61          73     3   \n",
       "\n",
       "   status  guarantor   ...    propert  age  other_debt  housing_type  \\\n",
       "0      93        101   ...        121   67         143           152   \n",
       "1      92        101   ...        121   22         143           152   \n",
       "2      93        101   ...        121   49         143           152   \n",
       "3      93        103   ...        122   45         143           153   \n",
       "4      93        101   ...        124   53         143           153   \n",
       "\n",
       "   existing_credit_bank  job  dependents  phone  foreign  target  \n",
       "0                     2  173           1    192      201       1  \n",
       "1                     1  173           1    191      201       2  \n",
       "2                     1  172           2    191      201       1  \n",
       "3                     1  173           2    191      201       1  \n",
       "4                     2  173           2    191      201       2  \n",
       "\n",
       "[5 rows x 21 columns]"
      ]
     },
     "execution_count": 112,
     "metadata": {},
     "output_type": "execute_result"
    }
   ],
   "source": [
    "german.head()"
   ]
  },
  {
   "cell_type": "code",
   "execution_count": 113,
   "metadata": {
    "collapsed": true
   },
   "outputs": [],
   "source": [
    "attribute_dict = {1:['checking', 'history', 'purpose', 'savings',\n",
    "                    'employment', 'status', 'guarantor','propert', 'other_debt', 'housing_type', \n",
    "                    'job', 'phone', 'foreign'], \n",
    "                  2:['duration', 'amount', 'rate', 'residence_time','age', 'existing_credit_bank',\n",
    "                     'dependents',]}"
   ]
  },
  {
   "cell_type": "code",
   "execution_count": 114,
   "metadata": {
    "scrolled": true
   },
   "outputs": [
    {
     "data": {
      "text/html": [
       "<div>\n",
       "<style>\n",
       "    .dataframe thead tr:only-child th {\n",
       "        text-align: right;\n",
       "    }\n",
       "\n",
       "    .dataframe thead th {\n",
       "        text-align: left;\n",
       "    }\n",
       "\n",
       "    .dataframe tbody tr th {\n",
       "        vertical-align: top;\n",
       "    }\n",
       "</style>\n",
       "<table border=\"1\" class=\"dataframe\">\n",
       "  <thead>\n",
       "    <tr style=\"text-align: right;\">\n",
       "      <th></th>\n",
       "      <th>checking</th>\n",
       "      <th>duration</th>\n",
       "      <th>history</th>\n",
       "      <th>purpose</th>\n",
       "      <th>amount</th>\n",
       "      <th>savings</th>\n",
       "      <th>employment</th>\n",
       "      <th>rate</th>\n",
       "      <th>status</th>\n",
       "      <th>guarantor</th>\n",
       "      <th>...</th>\n",
       "      <th>propert</th>\n",
       "      <th>age</th>\n",
       "      <th>other_debt</th>\n",
       "      <th>housing_type</th>\n",
       "      <th>existing_credit_bank</th>\n",
       "      <th>job</th>\n",
       "      <th>dependents</th>\n",
       "      <th>phone</th>\n",
       "      <th>foreign</th>\n",
       "      <th>target</th>\n",
       "    </tr>\n",
       "  </thead>\n",
       "  <tbody>\n",
       "    <tr>\n",
       "      <th>count</th>\n",
       "      <td>1000.000000</td>\n",
       "      <td>1000.000000</td>\n",
       "      <td>1000.00000</td>\n",
       "      <td>1000.000000</td>\n",
       "      <td>1000.000000</td>\n",
       "      <td>1000.000000</td>\n",
       "      <td>1000.000000</td>\n",
       "      <td>1000.000000</td>\n",
       "      <td>1000.00000</td>\n",
       "      <td>1000.000000</td>\n",
       "      <td>...</td>\n",
       "      <td>1000.000000</td>\n",
       "      <td>1000.000000</td>\n",
       "      <td>1000.000000</td>\n",
       "      <td>1000.000000</td>\n",
       "      <td>1000.000000</td>\n",
       "      <td>1000.000000</td>\n",
       "      <td>1000.000000</td>\n",
       "      <td>1000.000000</td>\n",
       "      <td>1000.000000</td>\n",
       "      <td>1000.000000</td>\n",
       "    </tr>\n",
       "    <tr>\n",
       "      <th>mean</th>\n",
       "      <td>12.577000</td>\n",
       "      <td>20.903000</td>\n",
       "      <td>32.54500</td>\n",
       "      <td>47.148000</td>\n",
       "      <td>3271.258000</td>\n",
       "      <td>62.105000</td>\n",
       "      <td>73.384000</td>\n",
       "      <td>2.973000</td>\n",
       "      <td>92.68200</td>\n",
       "      <td>101.145000</td>\n",
       "      <td>...</td>\n",
       "      <td>122.358000</td>\n",
       "      <td>35.546000</td>\n",
       "      <td>142.675000</td>\n",
       "      <td>151.929000</td>\n",
       "      <td>1.407000</td>\n",
       "      <td>172.904000</td>\n",
       "      <td>1.155000</td>\n",
       "      <td>191.404000</td>\n",
       "      <td>201.037000</td>\n",
       "      <td>1.300000</td>\n",
       "    </tr>\n",
       "    <tr>\n",
       "      <th>std</th>\n",
       "      <td>1.257638</td>\n",
       "      <td>12.058814</td>\n",
       "      <td>1.08312</td>\n",
       "      <td>40.095333</td>\n",
       "      <td>2822.736876</td>\n",
       "      <td>1.580023</td>\n",
       "      <td>1.208306</td>\n",
       "      <td>1.118715</td>\n",
       "      <td>0.70808</td>\n",
       "      <td>0.477706</td>\n",
       "      <td>...</td>\n",
       "      <td>1.050209</td>\n",
       "      <td>11.375469</td>\n",
       "      <td>0.705601</td>\n",
       "      <td>0.531264</td>\n",
       "      <td>0.577654</td>\n",
       "      <td>0.653614</td>\n",
       "      <td>0.362086</td>\n",
       "      <td>0.490943</td>\n",
       "      <td>0.188856</td>\n",
       "      <td>0.458487</td>\n",
       "    </tr>\n",
       "    <tr>\n",
       "      <th>min</th>\n",
       "      <td>11.000000</td>\n",
       "      <td>4.000000</td>\n",
       "      <td>30.00000</td>\n",
       "      <td>40.000000</td>\n",
       "      <td>250.000000</td>\n",
       "      <td>61.000000</td>\n",
       "      <td>71.000000</td>\n",
       "      <td>1.000000</td>\n",
       "      <td>91.00000</td>\n",
       "      <td>101.000000</td>\n",
       "      <td>...</td>\n",
       "      <td>121.000000</td>\n",
       "      <td>19.000000</td>\n",
       "      <td>141.000000</td>\n",
       "      <td>151.000000</td>\n",
       "      <td>1.000000</td>\n",
       "      <td>171.000000</td>\n",
       "      <td>1.000000</td>\n",
       "      <td>191.000000</td>\n",
       "      <td>201.000000</td>\n",
       "      <td>1.000000</td>\n",
       "    </tr>\n",
       "    <tr>\n",
       "      <th>25%</th>\n",
       "      <td>11.000000</td>\n",
       "      <td>12.000000</td>\n",
       "      <td>32.00000</td>\n",
       "      <td>41.000000</td>\n",
       "      <td>1365.500000</td>\n",
       "      <td>61.000000</td>\n",
       "      <td>73.000000</td>\n",
       "      <td>2.000000</td>\n",
       "      <td>92.00000</td>\n",
       "      <td>101.000000</td>\n",
       "      <td>...</td>\n",
       "      <td>121.000000</td>\n",
       "      <td>27.000000</td>\n",
       "      <td>143.000000</td>\n",
       "      <td>152.000000</td>\n",
       "      <td>1.000000</td>\n",
       "      <td>173.000000</td>\n",
       "      <td>1.000000</td>\n",
       "      <td>191.000000</td>\n",
       "      <td>201.000000</td>\n",
       "      <td>1.000000</td>\n",
       "    </tr>\n",
       "    <tr>\n",
       "      <th>50%</th>\n",
       "      <td>12.000000</td>\n",
       "      <td>18.000000</td>\n",
       "      <td>32.00000</td>\n",
       "      <td>42.000000</td>\n",
       "      <td>2319.500000</td>\n",
       "      <td>61.000000</td>\n",
       "      <td>73.000000</td>\n",
       "      <td>3.000000</td>\n",
       "      <td>93.00000</td>\n",
       "      <td>101.000000</td>\n",
       "      <td>...</td>\n",
       "      <td>122.000000</td>\n",
       "      <td>33.000000</td>\n",
       "      <td>143.000000</td>\n",
       "      <td>152.000000</td>\n",
       "      <td>1.000000</td>\n",
       "      <td>173.000000</td>\n",
       "      <td>1.000000</td>\n",
       "      <td>191.000000</td>\n",
       "      <td>201.000000</td>\n",
       "      <td>1.000000</td>\n",
       "    </tr>\n",
       "    <tr>\n",
       "      <th>75%</th>\n",
       "      <td>14.000000</td>\n",
       "      <td>24.000000</td>\n",
       "      <td>34.00000</td>\n",
       "      <td>43.000000</td>\n",
       "      <td>3972.250000</td>\n",
       "      <td>63.000000</td>\n",
       "      <td>75.000000</td>\n",
       "      <td>4.000000</td>\n",
       "      <td>93.00000</td>\n",
       "      <td>101.000000</td>\n",
       "      <td>...</td>\n",
       "      <td>123.000000</td>\n",
       "      <td>42.000000</td>\n",
       "      <td>143.000000</td>\n",
       "      <td>152.000000</td>\n",
       "      <td>2.000000</td>\n",
       "      <td>173.000000</td>\n",
       "      <td>1.000000</td>\n",
       "      <td>192.000000</td>\n",
       "      <td>201.000000</td>\n",
       "      <td>2.000000</td>\n",
       "    </tr>\n",
       "    <tr>\n",
       "      <th>max</th>\n",
       "      <td>14.000000</td>\n",
       "      <td>72.000000</td>\n",
       "      <td>34.00000</td>\n",
       "      <td>410.000000</td>\n",
       "      <td>18424.000000</td>\n",
       "      <td>65.000000</td>\n",
       "      <td>75.000000</td>\n",
       "      <td>4.000000</td>\n",
       "      <td>94.00000</td>\n",
       "      <td>103.000000</td>\n",
       "      <td>...</td>\n",
       "      <td>124.000000</td>\n",
       "      <td>75.000000</td>\n",
       "      <td>143.000000</td>\n",
       "      <td>153.000000</td>\n",
       "      <td>4.000000</td>\n",
       "      <td>174.000000</td>\n",
       "      <td>2.000000</td>\n",
       "      <td>192.000000</td>\n",
       "      <td>202.000000</td>\n",
       "      <td>2.000000</td>\n",
       "    </tr>\n",
       "  </tbody>\n",
       "</table>\n",
       "<p>8 rows × 21 columns</p>\n",
       "</div>"
      ],
      "text/plain": [
       "          checking     duration     history      purpose        amount  \\\n",
       "count  1000.000000  1000.000000  1000.00000  1000.000000   1000.000000   \n",
       "mean     12.577000    20.903000    32.54500    47.148000   3271.258000   \n",
       "std       1.257638    12.058814     1.08312    40.095333   2822.736876   \n",
       "min      11.000000     4.000000    30.00000    40.000000    250.000000   \n",
       "25%      11.000000    12.000000    32.00000    41.000000   1365.500000   \n",
       "50%      12.000000    18.000000    32.00000    42.000000   2319.500000   \n",
       "75%      14.000000    24.000000    34.00000    43.000000   3972.250000   \n",
       "max      14.000000    72.000000    34.00000   410.000000  18424.000000   \n",
       "\n",
       "           savings   employment         rate      status    guarantor  \\\n",
       "count  1000.000000  1000.000000  1000.000000  1000.00000  1000.000000   \n",
       "mean     62.105000    73.384000     2.973000    92.68200   101.145000   \n",
       "std       1.580023     1.208306     1.118715     0.70808     0.477706   \n",
       "min      61.000000    71.000000     1.000000    91.00000   101.000000   \n",
       "25%      61.000000    73.000000     2.000000    92.00000   101.000000   \n",
       "50%      61.000000    73.000000     3.000000    93.00000   101.000000   \n",
       "75%      63.000000    75.000000     4.000000    93.00000   101.000000   \n",
       "max      65.000000    75.000000     4.000000    94.00000   103.000000   \n",
       "\n",
       "          ...           propert          age   other_debt  housing_type  \\\n",
       "count     ...       1000.000000  1000.000000  1000.000000   1000.000000   \n",
       "mean      ...        122.358000    35.546000   142.675000    151.929000   \n",
       "std       ...          1.050209    11.375469     0.705601      0.531264   \n",
       "min       ...        121.000000    19.000000   141.000000    151.000000   \n",
       "25%       ...        121.000000    27.000000   143.000000    152.000000   \n",
       "50%       ...        122.000000    33.000000   143.000000    152.000000   \n",
       "75%       ...        123.000000    42.000000   143.000000    152.000000   \n",
       "max       ...        124.000000    75.000000   143.000000    153.000000   \n",
       "\n",
       "       existing_credit_bank          job   dependents        phone  \\\n",
       "count           1000.000000  1000.000000  1000.000000  1000.000000   \n",
       "mean               1.407000   172.904000     1.155000   191.404000   \n",
       "std                0.577654     0.653614     0.362086     0.490943   \n",
       "min                1.000000   171.000000     1.000000   191.000000   \n",
       "25%                1.000000   173.000000     1.000000   191.000000   \n",
       "50%                1.000000   173.000000     1.000000   191.000000   \n",
       "75%                2.000000   173.000000     1.000000   192.000000   \n",
       "max                4.000000   174.000000     2.000000   192.000000   \n",
       "\n",
       "           foreign       target  \n",
       "count  1000.000000  1000.000000  \n",
       "mean    201.037000     1.300000  \n",
       "std       0.188856     0.458487  \n",
       "min     201.000000     1.000000  \n",
       "25%     201.000000     1.000000  \n",
       "50%     201.000000     1.000000  \n",
       "75%     201.000000     2.000000  \n",
       "max     202.000000     2.000000  \n",
       "\n",
       "[8 rows x 21 columns]"
      ]
     },
     "execution_count": 114,
     "metadata": {},
     "output_type": "execute_result"
    }
   ],
   "source": [
    "german.describe()"
   ]
  },
  {
   "cell_type": "markdown",
   "metadata": {},
   "source": [
    "##### Noted as most relevant attributes "
   ]
  },
  {
   "cell_type": "code",
   "execution_count": 115,
   "metadata": {
    "collapsed": true
   },
   "outputs": [],
   "source": [
    "german2 = german[['duration', 'history','amount', 'savings',\n",
    "       'status','housing_type', 'foreign','target']]"
   ]
  },
  {
   "cell_type": "code",
   "execution_count": 116,
   "metadata": {},
   "outputs": [
    {
     "data": {
      "text/html": [
       "<div>\n",
       "<style>\n",
       "    .dataframe thead tr:only-child th {\n",
       "        text-align: right;\n",
       "    }\n",
       "\n",
       "    .dataframe thead th {\n",
       "        text-align: left;\n",
       "    }\n",
       "\n",
       "    .dataframe tbody tr th {\n",
       "        vertical-align: top;\n",
       "    }\n",
       "</style>\n",
       "<table border=\"1\" class=\"dataframe\">\n",
       "  <thead>\n",
       "    <tr style=\"text-align: right;\">\n",
       "      <th></th>\n",
       "      <th>duration</th>\n",
       "      <th>history</th>\n",
       "      <th>amount</th>\n",
       "      <th>savings</th>\n",
       "      <th>status</th>\n",
       "      <th>housing_type</th>\n",
       "      <th>foreign</th>\n",
       "      <th>target</th>\n",
       "    </tr>\n",
       "  </thead>\n",
       "  <tbody>\n",
       "    <tr>\n",
       "      <th>0</th>\n",
       "      <td>6</td>\n",
       "      <td>34</td>\n",
       "      <td>1169</td>\n",
       "      <td>65</td>\n",
       "      <td>93</td>\n",
       "      <td>152</td>\n",
       "      <td>201</td>\n",
       "      <td>1</td>\n",
       "    </tr>\n",
       "    <tr>\n",
       "      <th>1</th>\n",
       "      <td>48</td>\n",
       "      <td>32</td>\n",
       "      <td>5951</td>\n",
       "      <td>61</td>\n",
       "      <td>92</td>\n",
       "      <td>152</td>\n",
       "      <td>201</td>\n",
       "      <td>2</td>\n",
       "    </tr>\n",
       "    <tr>\n",
       "      <th>2</th>\n",
       "      <td>12</td>\n",
       "      <td>34</td>\n",
       "      <td>2096</td>\n",
       "      <td>61</td>\n",
       "      <td>93</td>\n",
       "      <td>152</td>\n",
       "      <td>201</td>\n",
       "      <td>1</td>\n",
       "    </tr>\n",
       "    <tr>\n",
       "      <th>3</th>\n",
       "      <td>42</td>\n",
       "      <td>32</td>\n",
       "      <td>7882</td>\n",
       "      <td>61</td>\n",
       "      <td>93</td>\n",
       "      <td>153</td>\n",
       "      <td>201</td>\n",
       "      <td>1</td>\n",
       "    </tr>\n",
       "    <tr>\n",
       "      <th>4</th>\n",
       "      <td>24</td>\n",
       "      <td>33</td>\n",
       "      <td>4870</td>\n",
       "      <td>61</td>\n",
       "      <td>93</td>\n",
       "      <td>153</td>\n",
       "      <td>201</td>\n",
       "      <td>2</td>\n",
       "    </tr>\n",
       "  </tbody>\n",
       "</table>\n",
       "</div>"
      ],
      "text/plain": [
       "   duration  history  amount  savings  status  housing_type  foreign  target\n",
       "0         6       34    1169       65      93           152      201       1\n",
       "1        48       32    5951       61      92           152      201       2\n",
       "2        12       34    2096       61      93           152      201       1\n",
       "3        42       32    7882       61      93           153      201       1\n",
       "4        24       33    4870       61      93           153      201       2"
      ]
     },
     "execution_count": 116,
     "metadata": {},
     "output_type": "execute_result"
    }
   ],
   "source": [
    "german2.head()\n"
   ]
  },
  {
   "cell_type": "markdown",
   "metadata": {},
   "source": [
    "### Chop up the data (training, testing)"
   ]
  },
  {
   "cell_type": "code",
   "execution_count": 117,
   "metadata": {
    "collapsed": true
   },
   "outputs": [],
   "source": [
    "from sklearn.model_selection import train_test_split"
   ]
  },
  {
   "cell_type": "code",
   "execution_count": 118,
   "metadata": {
    "collapsed": true
   },
   "outputs": [],
   "source": [
    "x_data = german2.drop('target',axis=1)"
   ]
  },
  {
   "cell_type": "code",
   "execution_count": 119,
   "metadata": {
    "collapsed": true
   },
   "outputs": [],
   "source": [
    "y_labels = german['target']"
   ]
  },
  {
   "cell_type": "code",
   "execution_count": 120,
   "metadata": {
    "collapsed": true
   },
   "outputs": [],
   "source": [
    "X_train, X_test, y_train, y_test = train_test_split(x_data, y_labels, test_size=0.2, random_state=101)"
   ]
  },
  {
   "cell_type": "code",
   "execution_count": 121,
   "metadata": {},
   "outputs": [
    {
     "data": {
      "text/plain": [
       "Index(['checking', 'duration', 'history', 'purpose', 'amount', 'savings',\n",
       "       'employment', 'rate', 'status', 'guarantor', 'residence_time',\n",
       "       'propert', 'age', 'other_debt', 'housing_type', 'existing_credit_bank',\n",
       "       'job', 'dependents', 'phone', 'foreign', 'target'],\n",
       "      dtype='object')"
      ]
     },
     "execution_count": 121,
     "metadata": {},
     "output_type": "execute_result"
    }
   ],
   "source": [
    "german.columns"
   ]
  },
  {
   "cell_type": "code",
   "execution_count": 122,
   "metadata": {
    "collapsed": true
   },
   "outputs": [],
   "source": [
    "import tensorflow as tf"
   ]
  },
  {
   "cell_type": "markdown",
   "metadata": {},
   "source": [
    "### Assign feature columns for TensorFlow (numeric, categorical, etc.)"
   ]
  },
  {
   "cell_type": "code",
   "execution_count": 123,
   "metadata": {
    "collapsed": true
   },
   "outputs": [],
   "source": [
    "history = tf.feature_column.numeric_column(\"history\")\n",
    "savings = tf.feature_column.numeric_column(\"savings\")\n",
    "status = tf.feature_column.numeric_column(\"status\")\n",
    "housing_type = tf.feature_column.numeric_column(\"housing_type\")\n",
    "foreign = tf.feature_column.numeric_column(\"foreign\")\n",
    "duration = tf.feature_column.numeric_column(\"duration\")\n",
    "amount = tf.feature_column.numeric_column(\"amount\")"
   ]
  },
  {
   "cell_type": "code",
   "execution_count": 124,
   "metadata": {},
   "outputs": [
    {
     "name": "stdout",
     "output_type": "stream",
     "text": [
      "['checking', 'history', 'purpose', 'savings', 'employment', 'status', 'guarantor', 'propert', 'other_debt', 'housing_type', 'job', 'phone', 'foreign']\n",
      "['duration', 'amount', 'rate', 'residence_time', 'age', 'existing_credit_bank', 'dependents']\n"
     ]
    }
   ],
   "source": [
    "for attribute in attribute_dict.values():\n",
    "    print(attribute)"
   ]
  },
  {
   "cell_type": "code",
   "execution_count": 125,
   "metadata": {
    "collapsed": true
   },
   "outputs": [],
   "source": [
    "feat_cols = [duration, history,amount, savings,\n",
    "            status,housing_type, foreign]"
   ]
  },
  {
   "cell_type": "markdown",
   "metadata": {},
   "source": [
    "### Create model and Input the data"
   ]
  },
  {
   "cell_type": "code",
   "execution_count": 126,
   "metadata": {
    "collapsed": true
   },
   "outputs": [],
   "source": [
    "input_func = tf.estimator.inputs.pandas_input_fn(x=X_train,y=y_train,batch_size=10,num_epochs=1000,shuffle=True)"
   ]
  },
  {
   "cell_type": "code",
   "execution_count": 127,
   "metadata": {},
   "outputs": [
    {
     "name": "stdout",
     "output_type": "stream",
     "text": [
      "INFO:tensorflow:Using default config.\n",
      "WARNING:tensorflow:Using temporary folder as model directory: C:\\Users\\JMORR_~1\\AppData\\Local\\Temp\\tmpl7jv4teq\n",
      "INFO:tensorflow:Using config: {'_session_config': None, '_save_checkpoints_steps': None, '_keep_checkpoint_every_n_hours': 10000, '_tf_random_seed': 1, '_save_summary_steps': 100, '_model_dir': 'C:\\\\Users\\\\JMORR_~1\\\\AppData\\\\Local\\\\Temp\\\\tmpl7jv4teq', '_save_checkpoints_secs': 600, '_log_step_count_steps': 100, '_keep_checkpoint_max': 5}\n"
     ]
    }
   ],
   "source": [
    "dnn_model = tf.estimator.DNNClassifier(hidden_units=[3,3,3],feature_columns=feat_cols, n_classes=10)"
   ]
  },
  {
   "cell_type": "code",
   "execution_count": null,
   "metadata": {
    "collapsed": true
   },
   "outputs": [],
   "source": []
  },
  {
   "cell_type": "code",
   "execution_count": 128,
   "metadata": {},
   "outputs": [
    {
     "name": "stdout",
     "output_type": "stream",
     "text": [
      "INFO:tensorflow:Create CheckpointSaverHook.\n",
      "INFO:tensorflow:Saving checkpoints for 1 into C:\\Users\\JMORR_~1\\AppData\\Local\\Temp\\tmpl7jv4teq\\model.ckpt.\n",
      "INFO:tensorflow:step = 1, loss = 8096.41\n",
      "INFO:tensorflow:global_step/sec: 197.932\n",
      "INFO:tensorflow:step = 101, loss = 13.3072 (0.510 sec)\n",
      "INFO:tensorflow:global_step/sec: 149.111\n",
      "INFO:tensorflow:step = 201, loss = 10.1815 (0.671 sec)\n",
      "INFO:tensorflow:global_step/sec: 126.989\n",
      "INFO:tensorflow:step = 301, loss = 9.48388 (0.800 sec)\n",
      "INFO:tensorflow:global_step/sec: 117.892\n",
      "INFO:tensorflow:step = 401, loss = 8.76009 (0.847 sec)\n",
      "INFO:tensorflow:global_step/sec: 108.538\n",
      "INFO:tensorflow:step = 501, loss = 6.82116 (0.902 sec)\n",
      "INFO:tensorflow:global_step/sec: 135.117\n",
      "INFO:tensorflow:step = 601, loss = 7.17253 (0.741 sec)\n",
      "INFO:tensorflow:global_step/sec: 112.958\n",
      "INFO:tensorflow:step = 701, loss = 9.37499 (0.891 sec)\n",
      "INFO:tensorflow:global_step/sec: 127.134\n",
      "INFO:tensorflow:step = 801, loss = 10.1327 (0.799 sec)\n",
      "INFO:tensorflow:global_step/sec: 113.471\n",
      "INFO:tensorflow:step = 901, loss = 7.39819 (0.875 sec)\n",
      "INFO:tensorflow:global_step/sec: 113.766\n",
      "INFO:tensorflow:step = 1001, loss = 6.39428 (0.874 sec)\n",
      "INFO:tensorflow:global_step/sec: 127.337\n",
      "INFO:tensorflow:step = 1101, loss = 7.183 (0.803 sec)\n",
      "INFO:tensorflow:global_step/sec: 147.698\n",
      "INFO:tensorflow:step = 1201, loss = 6.19384 (0.660 sec)\n",
      "INFO:tensorflow:global_step/sec: 121.56\n",
      "INFO:tensorflow:step = 1301, loss = 7.94568 (0.854 sec)\n",
      "INFO:tensorflow:global_step/sec: 145.587\n",
      "INFO:tensorflow:step = 1401, loss = 6.06181 (0.656 sec)\n",
      "INFO:tensorflow:global_step/sec: 134.345\n",
      "INFO:tensorflow:step = 1501, loss = 6.91853 (0.764 sec)\n",
      "INFO:tensorflow:global_step/sec: 146.831\n",
      "INFO:tensorflow:step = 1601, loss = 5.01531 (0.646 sec)\n",
      "INFO:tensorflow:global_step/sec: 124.049\n",
      "INFO:tensorflow:step = 1701, loss = 7.74964 (0.837 sec)\n",
      "INFO:tensorflow:global_step/sec: 165.91\n",
      "INFO:tensorflow:step = 1801, loss = 9.56749 (0.587 sec)\n",
      "INFO:tensorflow:global_step/sec: 142.515\n",
      "INFO:tensorflow:step = 1901, loss = 7.6915 (0.702 sec)\n",
      "INFO:tensorflow:global_step/sec: 135.158\n",
      "INFO:tensorflow:step = 2001, loss = 5.80587 (0.740 sec)\n",
      "INFO:tensorflow:global_step/sec: 147.49\n",
      "INFO:tensorflow:step = 2101, loss = 7.64334 (0.678 sec)\n",
      "INFO:tensorflow:global_step/sec: 146.329\n",
      "INFO:tensorflow:step = 2201, loss = 5.74981 (0.699 sec)\n",
      "INFO:tensorflow:global_step/sec: 132.155\n",
      "INFO:tensorflow:step = 2301, loss = 4.81058 (0.757 sec)\n",
      "INFO:tensorflow:global_step/sec: 144.436\n",
      "INFO:tensorflow:step = 2401, loss = 6.63843 (0.677 sec)\n",
      "INFO:tensorflow:global_step/sec: 140.834\n",
      "INFO:tensorflow:step = 2501, loss = 5.69697 (0.710 sec)\n",
      "INFO:tensorflow:global_step/sec: 139.155\n",
      "INFO:tensorflow:step = 2601, loss = 7.52284 (0.719 sec)\n",
      "INFO:tensorflow:global_step/sec: 123.054\n",
      "INFO:tensorflow:step = 2701, loss = 4.73209 (0.856 sec)\n",
      "INFO:tensorflow:global_step/sec: 113.343\n",
      "INFO:tensorflow:step = 2801, loss = 5.63375 (0.852 sec)\n",
      "INFO:tensorflow:global_step/sec: 124.352\n",
      "INFO:tensorflow:step = 2901, loss = 6.55633 (0.807 sec)\n",
      "INFO:tensorflow:global_step/sec: 99.0623\n",
      "INFO:tensorflow:step = 3001, loss = 6.54179 (1.003 sec)\n",
      "INFO:tensorflow:global_step/sec: 129.682\n",
      "INFO:tensorflow:step = 3101, loss = 6.5296 (0.780 sec)\n",
      "INFO:tensorflow:global_step/sec: 131.735\n",
      "INFO:tensorflow:step = 3201, loss = 6.51727 (0.745 sec)\n",
      "INFO:tensorflow:global_step/sec: 149.207\n",
      "INFO:tensorflow:step = 3301, loss = 7.44246 (0.665 sec)\n",
      "INFO:tensorflow:global_step/sec: 127.305\n",
      "INFO:tensorflow:step = 3401, loss = 4.64941 (0.786 sec)\n",
      "INFO:tensorflow:global_step/sec: 149.505\n",
      "INFO:tensorflow:step = 3501, loss = 5.55458 (0.669 sec)\n",
      "INFO:tensorflow:global_step/sec: 145.148\n",
      "INFO:tensorflow:step = 3601, loss = 5.55822 (0.689 sec)\n",
      "INFO:tensorflow:global_step/sec: 129.696\n",
      "INFO:tensorflow:step = 3701, loss = 5.53994 (0.771 sec)\n",
      "INFO:tensorflow:global_step/sec: 139.289\n",
      "INFO:tensorflow:step = 3801, loss = 6.45895 (0.734 sec)\n",
      "INFO:tensorflow:global_step/sec: 143.131\n",
      "INFO:tensorflow:step = 3901, loss = 7.36644 (0.683 sec)\n",
      "INFO:tensorflow:global_step/sec: 145.577\n",
      "INFO:tensorflow:step = 4001, loss = 5.51802 (0.697 sec)\n",
      "INFO:tensorflow:global_step/sec: 137.945\n",
      "INFO:tensorflow:step = 4101, loss = 6.43621 (0.715 sec)\n",
      "INFO:tensorflow:global_step/sec: 147.962\n",
      "INFO:tensorflow:step = 4201, loss = 7.3576 (0.676 sec)\n",
      "INFO:tensorflow:global_step/sec: 146.991\n",
      "INFO:tensorflow:step = 4301, loss = 6.42162 (0.665 sec)\n",
      "INFO:tensorflow:global_step/sec: 139.771\n",
      "INFO:tensorflow:step = 4401, loss = 4.55841 (0.743 sec)\n",
      "INFO:tensorflow:global_step/sec: 118.643\n",
      "INFO:tensorflow:step = 4501, loss = 4.56351 (0.830 sec)\n",
      "INFO:tensorflow:global_step/sec: 168.602\n",
      "INFO:tensorflow:step = 4601, loss = 10.1558 (0.593 sec)\n",
      "INFO:tensorflow:global_step/sec: 144.311\n",
      "INFO:tensorflow:step = 4701, loss = 6.39833 (0.693 sec)\n",
      "INFO:tensorflow:global_step/sec: 133.371\n",
      "INFO:tensorflow:step = 4801, loss = 4.53193 (0.742 sec)\n",
      "INFO:tensorflow:global_step/sec: 138.783\n",
      "INFO:tensorflow:step = 4901, loss = 9.17083 (0.732 sec)\n",
      "INFO:tensorflow:Saving checkpoints for 5000 into C:\\Users\\JMORR_~1\\AppData\\Local\\Temp\\tmpl7jv4teq\\model.ckpt.\n",
      "INFO:tensorflow:Loss for final step: 8.23311.\n"
     ]
    },
    {
     "data": {
      "text/plain": [
       "<tensorflow.python.estimator.canned.dnn.DNNClassifier at 0x5c7f6ebf28>"
      ]
     },
     "execution_count": 128,
     "metadata": {},
     "output_type": "execute_result"
    }
   ],
   "source": [
    "dnn_model.train(input_fn=input_func,steps=5000)"
   ]
  },
  {
   "cell_type": "markdown",
   "metadata": {},
   "source": [
    "### Evaluate the predictions"
   ]
  },
  {
   "cell_type": "code",
   "execution_count": 129,
   "metadata": {
    "collapsed": true
   },
   "outputs": [],
   "source": [
    "eval_input_func = tf.estimator.inputs.pandas_input_fn(x=X_test,y=y_test,batch_size=10,shuffle=False)"
   ]
  },
  {
   "cell_type": "code",
   "execution_count": 130,
   "metadata": {},
   "outputs": [
    {
     "name": "stdout",
     "output_type": "stream",
     "text": [
      "INFO:tensorflow:Starting evaluation at 2019-02-17-19:08:49\n",
      "INFO:tensorflow:Restoring parameters from C:\\Users\\JMORR_~1\\AppData\\Local\\Temp\\tmpl7jv4teq\\model.ckpt-5000\n",
      "INFO:tensorflow:Finished evaluation at 2019-02-17-19:08:51\n",
      "INFO:tensorflow:Saving dict for global step 5000: accuracy = 0.655, average_loss = 0.679793, global_step = 5000, loss = 6.79793\n"
     ]
    },
    {
     "data": {
      "text/plain": [
       "{'accuracy': 0.65499997,\n",
       " 'average_loss': 0.67979324,\n",
       " 'global_step': 5000,\n",
       " 'loss': 6.7979326}"
      ]
     },
     "execution_count": 130,
     "metadata": {},
     "output_type": "execute_result"
    }
   ],
   "source": [
    "dnn_model.evaluate(eval_input_func)"
   ]
  }
 ],
 "metadata": {
  "kernelspec": {
   "display_name": "Python 3",
   "language": "python",
   "name": "python3"
  },
  "language_info": {
   "codemirror_mode": {
    "name": "ipython",
    "version": 3
   },
   "file_extension": ".py",
   "mimetype": "text/x-python",
   "name": "python",
   "nbconvert_exporter": "python",
   "pygments_lexer": "ipython3",
   "version": "3.5.4"
  }
 },
 "nbformat": 4,
 "nbformat_minor": 2
}
